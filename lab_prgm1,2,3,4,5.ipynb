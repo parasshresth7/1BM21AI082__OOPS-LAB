{
 "cells": [
  {
   "cell_type": "markdown",
   "metadata": {},
   "source": [
    "1 a)"
   ]
  },
  {
   "cell_type": "code",
   "execution_count": 1,
   "metadata": {},
   "outputs": [
    {
     "name": "stdout",
     "output_type": "stream",
     "text": [
      "Is student_instance an instance of Student? True\n",
      "Is marks_instance an instance of Marks? True\n",
      "Is Student a subclass of object? True\n",
      "Is Marks a subclass of object? True\n"
     ]
    }
   ],
   "source": [
    "class Student:\n",
    "    pass\n",
    "\n",
    "class Marks:\n",
    "    pass\n",
    "\n",
    "\n",
    "student_instance = Student()\n",
    "marks_instance = Marks()\n",
    "\n",
    "\n",
    "print(f\"Is student_instance an instance of Student? {isinstance(student_instance, Student)}\")\n",
    "print(f\"Is marks_instance an instance of Marks? {isinstance(marks_instance, Marks)}\")\n",
    "\n",
    "\n",
    "print(f\"Is Student a subclass of object? {issubclass(Student, object)}\")\n",
    "print(f\"Is Marks a subclass of object? {issubclass(Marks, object)}\")\n",
    "\n",
    "\n",
    "##### remember isinstance and issubcalssssss"
   ]
  },
  {
   "cell_type": "code",
   "execution_count": 2,
   "metadata": {},
   "outputs": [],
   "source": [
    "#1 B "
   ]
  },
  {
   "cell_type": "code",
   "execution_count": 9,
   "metadata": {},
   "outputs": [
    {
     "name": "stdout",
     "output_type": "stream",
     "text": [
      "Complex Number 1:\n",
      "3 + 4i\n",
      "Complex Number 2:\n",
      "1 - 2i\n",
      "Sum:\n",
      "4 + 2i\n"
     ]
    }
   ],
   "source": [
    "class ComplexNumber:\n",
    "    def __init__(self, real, imag):\n",
    "        self.real = real\n",
    "        self.imag = imag\n",
    "\n",
    "    def __add__(self, other):\n",
    "        return ComplexNumber(self.real + other.real, self.imag + other.imag)\n",
    "    \n",
    "    def display(self):\n",
    "        if self.imag >= 0:\n",
    "            sign = '+'\n",
    "        else:\n",
    "            sign = '-'\n",
    "        print(f\"{self.real} {sign} {abs(self.imag)}i\")\n",
    "\n",
    "complex1 = ComplexNumber(3, 4)\n",
    "complex2 = ComplexNumber(1, -2)\n",
    "\n",
    "result = complex1 + complex2\n",
    "\n",
    "print(\"Complex Number 1:\")\n",
    "complex1.display()\n",
    "print(\"Complex Number 2:\")\n",
    "complex2.display()\n",
    "print(\"Sum:\")\n",
    "result.display()\n",
    "\n",
    "\n",
    "\n",
    " "
   ]
  },
  {
   "cell_type": "code",
   "execution_count": 10,
   "metadata": {},
   "outputs": [],
   "source": [
    "#2a"
   ]
  },
  {
   "cell_type": "code",
   "execution_count": 14,
   "metadata": {},
   "outputs": [
    {
     "name": "stdout",
     "output_type": "stream",
     "text": [
      "\n",
      " may god bless you\n",
      "\n",
      " ok maa chudao ab \n"
     ]
    }
   ],
   "source": [
    "class Songs:\n",
    "    def __init__(self,lyrics):\n",
    "        self.lyrics=lyrics\n",
    "\n",
    "    def sing_me_a_song(self):\n",
    "        for i in self.lyrics:\n",
    "            print(\"\\n\",i)\n",
    "\n",
    "hbd=Songs([\"may god bless you\" , \"ok maa chudao ab \"])\n",
    "\n",
    "hbd.sing_me_a_song()\n"
   ]
  },
  {
   "cell_type": "code",
   "execution_count": 15,
   "metadata": {},
   "outputs": [],
   "source": [
    "##2b"
   ]
  },
  {
   "cell_type": "code",
   "execution_count": 21,
   "metadata": {},
   "outputs": [
    {
     "name": "stdout",
     "output_type": "stream",
     "text": [
      "kaushal\n",
      "woof wooof \n",
      "The age in dog years is: 147\n"
     ]
    }
   ],
   "source": [
    "from datetime import datetime\n",
    "\n",
    "class Dog:\n",
    "    def __init__(self, name, size, breed, dob):\n",
    "        self.name = name \n",
    "        self.size = size\n",
    "        self.breed = breed\n",
    "        self.dob = dob\n",
    "        \n",
    "    def bark(self):\n",
    "        print(\"woof wooof \")\n",
    "\n",
    "    def get_name(self):\n",
    "        print(self.name)\n",
    "\n",
    "\n",
    "    def dog_years(self):\n",
    "        y = self.calculate_age()  \n",
    "        x = 7 * y\n",
    "        print(\"The age in dog years is:\", x)\n",
    "\n",
    "    def calculate_age(self): \n",
    "        today = datetime.now()\n",
    "        dob_date = datetime.strptime(self.dob, '%Y-%m-%d')\n",
    "        age = today.year - dob_date.year - ((today.month, today.day) < (dob_date.month, dob_date.day))\n",
    "        return age\n",
    "\n",
    "\n",
    "\n",
    "d1 = Dog(name=\"kaushal\", size=36, breed=\"pacharne\", dob=\"2002-10-01\")\n",
    "\n",
    "d1.bark()\n",
    "d1.set_name()\n",
    "d1.dog_years()"
   ]
  },
  {
   "cell_type": "code",
   "execution_count": 22,
   "metadata": {},
   "outputs": [],
   "source": [
    "#3a , #3b"
   ]
  },
  {
   "cell_type": "code",
   "execution_count": null,
   "metadata": {},
   "outputs": [],
   "source": [
    "class Employee:\n",
    "    def __init__(self, name, salary):\n",
    "        self.__name = name\n",
    "        self.__salary = salary \n",
    "\n",
    "    def work(self):\n",
    "        return f\"{self.__name} is working.\"\n",
    "\n",
    "    def show_info(self):\n",
    "        return f\"Employee: {self.__name}, Salary: ${self.__salary}\"\n",
    "\n",
    "\n",
    "class CreditCard:\n",
    "    def __init__(self, limit):\n",
    "        self.__limit = limit  \n",
    "        self.__balance = 0\n",
    "\n",
    "    def get_balance(self):\n",
    "        return self.__balance\n",
    "\n",
    "    def withdraw(self, amount):\n",
    "        if amount <= self.__balance and amount <= self.__limit:\n",
    "            self.__balance -= amount\n",
    "            return f\"Withdrawal of ${amount} successful. New balance: ${self.__balance}\"\n",
    "        else:\n",
    "            return \"Insufficient funds or over limit.\"\n",
    "\n",
    "    def deposit(self, amount):\n",
    "        if amount > 0:\n",
    "            self.__balance += amount\n",
    "            return f\"Deposit of ${amount} successful. New balance: ${self.__balance}\"\n",
    "        else:\n",
    "            return \"Invalid deposit amount.\"\n",
    "        \n",
    "\n",
    "\n",
    "\n",
    "employee1 = Employee(\"John Doe\", 50000)\n",
    "print(employee1.work())\n",
    "print(employee1.show_info())\n",
    "\n",
    "\n",
    "credit_card = CreditCard(1000)\n",
    "print(credit_card.get_balance())\n",
    "print(credit_card.deposit(500))\n",
    "print(credit_card.withdraw(200))\n",
    "\n"
   ]
  },
  {
   "cell_type": "code",
   "execution_count": 23,
   "metadata": {},
   "outputs": [
    {
     "name": "stdout",
     "output_type": "stream",
     "text": [
      "The milage is: 50\n",
      "The name of the car is: Example Car\n"
     ]
    }
   ],
   "source": [
    "from abc import ABC, abstractmethod\n",
    "\n",
    "class Car(ABC):\n",
    "    @abstractmethod\n",
    "    def milagee(self, milage):\n",
    "        self.milage = milage\n",
    "        print(\"The milage is:\", self.milage)\n",
    "\n",
    "class Vehicle(Car):\n",
    "    def __init__(self, m, n):\n",
    "        super().__init__()\n",
    "        self.milage = m\n",
    "        self.name = n\n",
    "    def milagee(self):\n",
    "        pass\n",
    "    def display(self):\n",
    "        print(\"The milage is:\", self.milage)\n",
    "    \n",
    "    def get_name(self):\n",
    "        print(\"The name of the car is:\", self.name)\n",
    "\n",
    "c1 = Vehicle(50, \"Example Car\")\n",
    "c1.milagee()  \n",
    "c1.display()  \n",
    "c1.get_name()  "
   ]
  }
 ],
 "metadata": {
  "kernelspec": {
   "display_name": "Python 3",
   "language": "python",
   "name": "python3"
  },
  "language_info": {
   "codemirror_mode": {
    "name": "ipython",
    "version": 3
   },
   "file_extension": ".py",
   "mimetype": "text/x-python",
   "name": "python",
   "nbconvert_exporter": "python",
   "pygments_lexer": "ipython3",
   "version": "3.11.5"
  }
 },
 "nbformat": 4,
 "nbformat_minor": 2
}
