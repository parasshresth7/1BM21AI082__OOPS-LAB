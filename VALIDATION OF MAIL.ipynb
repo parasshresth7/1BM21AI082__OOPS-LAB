{
  "nbformat": 4,
  "nbformat_minor": 0,
  "metadata": {
    "colab": {
      "provenance": []
    },
    "kernelspec": {
      "name": "python3",
      "display_name": "Python 3"
    },
    "language_info": {
      "name": "python"
    }
  },
  "cells": [
    {
      "cell_type": "code",
      "execution_count": 1,
      "metadata": {
        "colab": {
          "base_uri": "https://localhost:8080/"
        },
        "id": "Z-08shrmTyAU",
        "outputId": "f5550e34-ce5e-4a7b-b4bf-03a31540df2e"
      },
      "outputs": [
        {
          "output_type": "stream",
          "name": "stdout",
          "text": [
            "The email address 'example123@example.com' is valid.\n"
          ]
        }
      ],
      "source": [
        "import re\n",
        "\n",
        "def is_valid_email(email):\n",
        "\n",
        "    pattern = r'^[a-zA-Z0-9][a-zA-Z0-9._%+-]{0,63}@[a-zA-Z0-9.-]+\\.[a-zA-Z]{2,}$'\n",
        "\n",
        "\n",
        "    match = re.match(pattern, email)\n",
        "\n",
        "\n",
        "    if match and len(email) <= 256:\n",
        "        return True\n",
        "    else:\n",
        "        return False\n",
        "\n",
        "\n",
        "email_address = \"example123@example.com\"\n",
        "result = is_valid_email(email_address)\n",
        "\n",
        "if result:\n",
        "    print(f\"The email address '{email_address}' is valid.\")\n",
        "else:\n",
        "    print(f\"The email address '{email_address}' is not valid.\")"
      ]
    },
    {
      "cell_type": "code",
      "source": [],
      "metadata": {
        "id": "8KHvWOFaUO_G"
      },
      "execution_count": null,
      "outputs": []
    }
  ]
}