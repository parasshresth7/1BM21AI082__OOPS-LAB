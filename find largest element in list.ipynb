{
  "nbformat": 4,
  "nbformat_minor": 0,
  "metadata": {
    "colab": {
      "provenance": []
    },
    "kernelspec": {
      "name": "python3",
      "display_name": "Python 3"
    },
    "language_info": {
      "name": "python"
    }
  },
  "cells": [
    {
      "cell_type": "code",
      "execution_count": 23,
      "metadata": {
        "colab": {
          "base_uri": "https://localhost:8080/"
        },
        "id": "paWHvLUHJf_2",
        "outputId": "79474c26-2c5f-4e41-c203-ef1e6e40a53d"
      },
      "outputs": [
        {
          "output_type": "stream",
          "name": "stdout",
          "text": [
            "the largest element in list is:\n"
          ]
        },
        {
          "output_type": "execute_result",
          "data": {
            "text/plain": [
              "12"
            ]
          },
          "metadata": {},
          "execution_count": 23
        }
      ],
      "source": [
        "def find_largest_element():\n",
        "  l=[10,12,3,4,6]\n",
        "  largest=l[0]\n",
        "  for i in l:\n",
        "    if i>largest:\n",
        "      largest=i\n",
        "  return largest\n",
        "print('the largest element in list is:')\n",
        "find_largest_element()\n",
        "\n",
        "\n",
        "\n",
        "\n",
        "\n",
        "\n",
        "\n",
        ""
      ]
    },
    {
      "cell_type": "code",
      "source": [],
      "metadata": {
        "id": "-JkXQViOLvh-"
      },
      "execution_count": 21,
      "outputs": []
    },
    {
      "cell_type": "code",
      "source": [
        "\n",
        "\n",
        "\n",
        ""
      ],
      "metadata": {
        "id": "3E1TakTUL4sH"
      },
      "execution_count": 22,
      "outputs": []
    },
    {
      "cell_type": "code",
      "source": [],
      "metadata": {
        "id": "wj7xxyKwN0mQ"
      },
      "execution_count": null,
      "outputs": []
    }
  ]
}