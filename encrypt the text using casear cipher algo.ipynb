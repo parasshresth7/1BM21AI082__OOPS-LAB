{
 "cells": [
  {
   "cell_type": "code",
   "execution_count": 1,
   "id": "13b7bf36",
   "metadata": {},
   "outputs": [
    {
     "name": "stdout",
     "output_type": "stream",
     "text": [
      "Encrypted Text: Khoor, Zruog!\n",
      "Decrypted Text: Hello, World!\n"
     ]
    }
   ],
   "source": [
    "def encrypt(text, shift):\n",
    "    encrypted_text = \"\"\n",
    "\n",
    "    for char in text:\n",
    "        if char.isalpha():\n",
    "           \n",
    "            is_upper = char.isupper()\n",
    "\n",
    "           \n",
    "            shifted_char = chr((ord(char) - ord('A' if is_upper else 'a') + shift) % 26 + ord('A' if is_upper else 'a'))\n",
    "\n",
    "          \n",
    "            encrypted_text += shifted_char\n",
    "        else:\n",
    "           \n",
    "            encrypted_text += char\n",
    "\n",
    "    return encrypted_text\n",
    "\n",
    "def decrypt(encrypted_text, shift):\n",
    "    \n",
    "    return encrypt(encrypted_text, -shift)\n",
    "\n",
    "\n",
    "original_text = \"Hello, World!\"\n",
    "shift_value = 3\n",
    "\n",
    "\n",
    "encrypted_result = encrypt(original_text, shift_value)\n",
    "print(f\"Encrypted Text: {encrypted_result}\")\n",
    "\n",
    "\n",
    "decrypted_result = decrypt(encrypted_result, shift_value)\n",
    "print(f\"Decrypted Text: {decrypted_result}\")"
   ]
  },
  {
   "cell_type": "code",
   "execution_count": null,
   "id": "d06022d9",
   "metadata": {},
   "outputs": [],
   "source": []
  }
 ],
 "metadata": {
  "kernelspec": {
   "display_name": "Python 3 (ipykernel)",
   "language": "python",
   "name": "python3"
  },
  "language_info": {
   "codemirror_mode": {
    "name": "ipython",
    "version": 3
   },
   "file_extension": ".py",
   "mimetype": "text/x-python",
   "name": "python",
   "nbconvert_exporter": "python",
   "pygments_lexer": "ipython3",
   "version": "3.11.3"
  }
 },
 "nbformat": 4,
 "nbformat_minor": 5
}
