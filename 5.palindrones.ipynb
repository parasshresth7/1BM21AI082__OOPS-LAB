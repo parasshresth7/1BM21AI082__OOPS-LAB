{
 "cells": [
  {
   "cell_type": "code",
   "execution_count": 1,
   "id": "8f5eb139",
   "metadata": {},
   "outputs": [
    {
     "name": "stdout",
     "output_type": "stream",
     "text": [
      "Input text: level radar python madam civic kayak\n",
      "Palindromes found: ['level', 'radar', 'madam', 'civic', 'kayak']\n"
     ]
    }
   ],
   "source": [
    "def is_palindrome(s):\n",
    "    \n",
    "    return s == s[::-1]\n",
    "\n",
    "def get_palindromes(input_string):\n",
    "    \n",
    "    words = input_string.split()\n",
    "\n",
    " \n",
    "    palindromes = [word for word in words if is_palindrome(word)]\n",
    "\n",
    "    return palindromes\n",
    "\n",
    "\n",
    "input_text = \"level radar python madam civic kayak\"\n",
    "palindrome_list = get_palindromes(input_text)\n",
    "\n",
    "print(f\"Input text: {input_text}\")\n",
    "print(f\"Palindromes found: {palindrome_list}\")"
   ]
  },
  {
   "cell_type": "code",
   "execution_count": null,
   "id": "57036714",
   "metadata": {},
   "outputs": [],
   "source": []
  }
 ],
 "metadata": {
  "kernelspec": {
   "display_name": "Python 3 (ipykernel)",
   "language": "python",
   "name": "python3"
  },
  "language_info": {
   "codemirror_mode": {
    "name": "ipython",
    "version": 3
   },
   "file_extension": ".py",
   "mimetype": "text/x-python",
   "name": "python",
   "nbconvert_exporter": "python",
   "pygments_lexer": "ipython3",
   "version": "3.11.3"
  }
 },
 "nbformat": 4,
 "nbformat_minor": 5
}
