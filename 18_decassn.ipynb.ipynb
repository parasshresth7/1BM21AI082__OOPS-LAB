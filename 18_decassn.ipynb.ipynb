{
 "cells": [
  {
   "cell_type": "code",
   "execution_count": 9,
   "id": "09390074",
   "metadata": {},
   "outputs": [
    {
     "name": "stdout",
     "output_type": "stream",
     "text": [
      "welcome to bms\n"
     ]
    }
   ],
   "source": [
    "from abc import ABC, abstractmethod\n",
    "class computer:\n",
    "    @abstractmethod\n",
    "    def display(self):\n",
    "        pass\n",
    "    def disp(self):\n",
    "        print(\"welcome to bms\")\n",
    "c1=computer()\n",
    "c1.display()\n",
    "c1.disp()"
   ]
  },
  {
   "cell_type": "code",
   "execution_count": 55,
   "id": "46f8f682",
   "metadata": {},
   "outputs": [
    {
     "name": "stdout",
     "output_type": "stream",
     "text": [
      "{'type_of_vehicle': 'car', 'no_of_wheelself': 4, 'start': 'self start'}\n"
     ]
    }
   ],
   "source": [
    "class vechicle:\n",
    "    def __init__(self,type_of_vechicle,no_of_wheel,start):\n",
    "        self.type_of_vechicle=type_of_vechicle\n",
    "        self.no_of_wheel=no_of_wheel\n",
    "        self.start=start\n",
    "    \n",
    "    def start_(self):\n",
    "        pass\n",
    "    def display(self):\n",
    "        v={\n",
    "            \"type_of_vehicle\":self.type_of_vechicle,\n",
    "            \"no_of_wheelself\":self.no_of_wheel,\n",
    "            \"start\":self.start\n",
    "        }\n",
    "        print(v)\n",
    "c=vechicle(\"car\",4,\"self start\")\n",
    "b=vechicle(\"bike\",2,\"kick_start\")\n",
    "bus=vechicle(\"Bus\",8,\"self_start\")\n",
    "c.display()"
   ]
  },
  {
   "cell_type": "code",
   "execution_count": 56,
   "id": "1a4d1d86",
   "metadata": {},
   "outputs": [
    {
     "name": "stdout",
     "output_type": "stream",
     "text": [
      "{'type_of_vehicle': 'bike', 'no_of_wheelself': 2, 'start': 'kick_start'}\n"
     ]
    }
   ],
   "source": [
    "b.display()"
   ]
  },
  {
   "cell_type": "code",
   "execution_count": 57,
   "id": "8aed8593",
   "metadata": {},
   "outputs": [
    {
     "name": "stdout",
     "output_type": "stream",
     "text": [
      "{'type_of_vehicle': 'Bus', 'no_of_wheelself': 8, 'start': 'self_start'}\n"
     ]
    }
   ],
   "source": [
    "bus.display()"
   ]
  },
  {
   "cell_type": "code",
   "execution_count": 64,
   "id": "f5b273bb",
   "metadata": {},
   "outputs": [
    {
     "name": "stdout",
     "output_type": "stream",
     "text": [
      "Current balance: 0\n",
      "Deposited $500. New balance: $500\n",
      "Withdrew $200. New balance: $300\n",
      "Insufficient funds.\n"
     ]
    }
   ],
   "source": [
    "\n",
    "class CreditCard:\n",
    "    def __init__(self, limit):\n",
    "        self.__limit = limit  \n",
    "        self.__balance = 0  \n",
    "\n",
    "    def get_balance(self):\n",
    "        return self.__balance\n",
    "\n",
    "    def deposit(self, amount):\n",
    "        if amount > 0:\n",
    "            self.__balance += amount\n",
    "            print(f\"Deposited ${amount}. New balance: ${self.__balance}\")\n",
    "        else:\n",
    "            print(\"Deposit amount must be greater than zero.\")\n",
    "\n",
    "    def withdraw(self, amount):\n",
    "        if amount > 0 and amount <= self.__balance and amount <= self.__limit:\n",
    "            self.__balance -= amount\n",
    "            print(f\"Withdrew ${amount}. New balance: ${self.__balance}\")\n",
    "        elif amount <= 0:\n",
    "            print(\"Withdrawal amount must be greater than zero.\")\n",
    "        elif amount > self.__balance:\n",
    "            print(\"Insufficient funds.\")\n",
    "        elif amount > self.__limit:\n",
    "            print(\"Withdrawal amount exceeds the credit limit.\")\n",
    "credit_card = CreditCard(limit=1000)\n",
    "\n",
    "print(\"Current balance:\", credit_card.get_balance())\n",
    "credit_card.deposit(500)\n",
    "credit_card.withdraw(200)\n",
    "credit_card.withdraw(1500)\n",
    "       \n",
    "    "
   ]
  },
  {
   "cell_type": "code",
   "execution_count": 58,
   "id": "060f1ee8",
   "metadata": {},
   "outputs": [
    {
     "name": "stdout",
     "output_type": "stream",
     "text": [
      "Sedan Mileage: 25\n",
      "SUV Mileage: 20\n",
      "Electric Car Mileage: No fuel consumption for electric cars\n"
     ]
    }
   ],
   "source": [
    "from abc import ABC, abstractmethod\n",
    "\n",
    "class Car(ABC):\n",
    "    @abstractmethod\n",
    "    def mileage(self):\n",
    "        pass\n",
    "\n",
    "class Sedan(Car):\n",
    "    def mileage(self):\n",
    "        return 25\n",
    "\n",
    "class SUV(Car):\n",
    "    def mileage(self):\n",
    "        return 20\n",
    "\n",
    "class ElectricCar(Car):\n",
    "    def mileage(self):\n",
    "        return \"No fuel consumption for electric cars\"\n",
    "\n",
    "sedan_car = Sedan()\n",
    "suv_car = SUV()\n",
    "electric_car = ElectricCar()\n",
    "\n",
    "print(\"Sedan Mileage:\", sedan_car.mileage())\n",
    "print(\"SUV Mileage:\", suv_car.mileage())\n",
    "print(\"Electric Car Mileage:\", electric_car.mileage())\n"
   ]
  },
  {
   "cell_type": "code",
   "execution_count": null,
   "id": "398e3b22",
   "metadata": {},
   "outputs": [],
   "source": []
  }
 ],
 "metadata": {
  "kernelspec": {
   "display_name": "Python 3 (ipykernel)",
   "language": "python",
   "name": "python3"
  },
  "language_info": {
   "codemirror_mode": {
    "name": "ipython",
    "version": 3
   },
   "file_extension": ".py",
   "mimetype": "text/x-python",
   "name": "python",
   "nbconvert_exporter": "python",
   "pygments_lexer": "ipython3",
   "version": "3.11.3"
  }
 },
 "nbformat": 4,
 "nbformat_minor": 5
}
