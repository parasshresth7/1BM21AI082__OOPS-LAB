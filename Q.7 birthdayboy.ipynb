{
 "cells": [
  {
   "cell_type": "code",
   "execution_count": 13,
   "id": "d683bdf8",
   "metadata": {},
   "outputs": [
    {
     "name": "stdout",
     "output_type": "stream",
     "text": [
      "Muji's age: 69\n",
      "After celebrating birthday, Muji's age: 70\n"
     ]
    }
   ],
   "source": [
    "class BirthdayBoy:\n",
    "    def __init__(self, name, age):\n",
    "        self.name = name\n",
    "        self.age = age\n",
    "\n",
    "    def celebrate_birthday(self):\n",
    "        self.age += 1\n",
    "\n",
    "\n",
    "birthday_person = BirthdayBoy(name=\"Muji\", age=69)\n",
    "\n",
    "print(f\"{birthday_person.name}'s age: {birthday_person.age}\")\n",
    "\n",
    "\n",
    "birthday_person.celebrate_birthday()\n",
    "\n",
    "\n",
    "print(f\"After celebrating birthday, {birthday_person.name}'s age: {birthday_person.age}\")\n",
    "\n",
    "\n"
   ]
  },
  {
   "cell_type": "code",
   "execution_count": 8,
   "id": "11cf605d",
   "metadata": {},
   "outputs": [],
   "source": []
  },
  {
   "cell_type": "code",
   "execution_count": null,
   "id": "2fe9f1a0",
   "metadata": {},
   "outputs": [],
   "source": []
  }
 ],
 "metadata": {
  "kernelspec": {
   "display_name": "Python 3 (ipykernel)",
   "language": "python",
   "name": "python3"
  },
  "language_info": {
   "codemirror_mode": {
    "name": "ipython",
    "version": 3
   },
   "file_extension": ".py",
   "mimetype": "text/x-python",
   "name": "python",
   "nbconvert_exporter": "python",
   "pygments_lexer": "ipython3",
   "version": "3.11.3"
  }
 },
 "nbformat": 4,
 "nbformat_minor": 5
}
