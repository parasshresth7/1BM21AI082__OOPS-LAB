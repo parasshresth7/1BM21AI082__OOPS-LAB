{
 "cells": [
  {
   "cell_type": "code",
   "execution_count": 11,
   "id": "df6e6fa0",
   "metadata": {},
   "outputs": [
    {
     "name": "stdout",
     "output_type": "stream",
     "text": [
      "is student_insatnce an instance of student?True\n",
      "is marks_insatnce an instance of marks?True\n",
      " is student a subclass of object ?True\n",
      " is marks a subclass of object ?True\n"
     ]
    }
   ],
   "source": [
    "class student():\n",
    "    pass\n",
    "class marks():\n",
    "    pass\n",
    "\n",
    "student_instance=student()\n",
    "marks_instance=marks()\n",
    "\n",
    "is_student_instance=isinstance(student_instance,student)\n",
    "is_marks_instance=isinstance(marks_instance,marks)\n",
    "\n",
    "print(f\"is student_insatnce an instance of student?{is_student_instance}\")\n",
    "print(f\"is marks_insatnce an instance of marks?{is_marks_instance}\")\n",
    "\n",
    "is_student_subclass=issubclass(student,object)\n",
    "is_marks_subclass=issubclass(marks,object)\n",
    "\n",
    "print(f\" is student a subclass of object ?{is_student_subclass}\")\n",
    "print(f\" is marks a subclass of object ?{is_marks_subclass}\")\n",
    "\n",
    "\n",
    "    \n",
    "\n",
    "\n"
   ]
  },
  {
   "cell_type": "code",
   "execution_count": 8,
   "id": "a252cf66",
   "metadata": {},
   "outputs": [],
   "source": []
  },
  {
   "cell_type": "code",
   "execution_count": null,
   "id": "3afdd25c",
   "metadata": {},
   "outputs": [],
   "source": []
  }
 ],
 "metadata": {
  "kernelspec": {
   "display_name": "Python 3 (ipykernel)",
   "language": "python",
   "name": "python3"
  },
  "language_info": {
   "codemirror_mode": {
    "name": "ipython",
    "version": 3
   },
   "file_extension": ".py",
   "mimetype": "text/x-python",
   "name": "python",
   "nbconvert_exporter": "python",
   "pygments_lexer": "ipython3",
   "version": "3.11.3"
  }
 },
 "nbformat": 4,
 "nbformat_minor": 5
}
